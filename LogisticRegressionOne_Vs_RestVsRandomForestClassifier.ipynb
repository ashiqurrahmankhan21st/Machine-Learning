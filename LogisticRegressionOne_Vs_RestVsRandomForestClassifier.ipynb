{
 "cells": [
  {
   "cell_type": "code",
   "execution_count": null,
   "metadata": {
    "colab": {
     "base_uri": "https://localhost:8080/",
     "height": 20043
    },
    "colab_type": "code",
    "id": "u_teb1EiG5dm",
    "outputId": "7b9ac57d-08fa-427e-9a1d-19ded96c8f67"
   },
   "outputs": [],
   "source": [
    "#Ashiqur RahmanKhan\n",
    "#online ApacheSpark installation\n",
    "\n",
    "!apt-get install openjdk-8-jdk-headless -qq > /dev/null\n",
    "!wget -q https://archive.apache.org/dist/spark/spark-2.4.5/spark-2.4.5-bin-hadoop2.6.tgz\n",
    "!tar xvf spark-2.4.5-bin-hadoop2.6.tgz\n",
    "!pip install -q findspark"
   ]
  },
  {
   "cell_type": "code",
   "execution_count": 0,
   "metadata": {
    "colab": {},
    "colab_type": "code",
    "id": "tQXsxkc0KxFZ"
   },
   "outputs": [],
   "source": [
    "import os\n",
    "os.environ[\"JAVA_HOME\"] = \"/usr/lib/jvm/java-8-openjdk-amd64\"\n",
    "os.environ[\"SPARK_HOME\"] = \"/content/spark-2.4.5-bin-hadoop2.6\"\n",
    "\n",
    "import findspark\n",
    "findspark.init()\n",
    "\n",
    "from pyspark.sql import SparkSession\n",
    "spark = SparkSession.builder.getOrCreate()\n",
    "\n",
    "from pyspark import SparkContext, SparkConf\n",
    "from pyspark.sql import SQLContext, SparkSession\n",
    "from pyspark.sql.types import StructType, StructField, DoubleType, IntegerType, StringType\n",
    "sc = SparkContext.getOrCreate(SparkConf().setMaster(\"local[*]\"))\n",
    "from pyspark.sql import SparkSession\n",
    "spark = SparkSession \\\n",
    "    .builder \\\n",
    "    .getOrCreate()"
   ]
  },
  {
   "cell_type": "code",
   "execution_count": 3,
   "metadata": {
    "colab": {
     "base_uri": "https://localhost:8080/",
     "height": 357
    },
    "colab_type": "code",
    "id": "Hpg2ccb0cMfE",
    "outputId": "cbcef0cf-e81f-4f70-c5a9-09ca57f901cb"
   },
   "outputs": [
    {
     "name": "stdout",
     "output_type": "stream",
     "text": [
      "--2020-05-11 21:06:06--  https://github.com/shatiilrahman/Machine-Learning/blob/master/titanic.parquet?raw=true\n",
      "Resolving github.com (github.com)... 140.82.113.3\n",
      "Connecting to github.com (github.com)|140.82.113.3|:443... connected.\n",
      "HTTP request sent, awaiting response... 302 Found\n",
      "Location: https://github.com/shatiilrahman/Machine-Learning/raw/master/titanic.parquet [following]\n",
      "--2020-05-11 21:06:06--  https://github.com/shatiilrahman/Machine-Learning/raw/master/titanic.parquet\n",
      "Reusing existing connection to github.com:443.\n",
      "HTTP request sent, awaiting response... 302 Found\n",
      "Location: https://raw.githubusercontent.com/shatiilrahman/Machine-Learning/master/titanic.parquet [following]\n",
      "--2020-05-11 21:06:06--  https://raw.githubusercontent.com/shatiilrahman/Machine-Learning/master/titanic.parquet\n",
      "Resolving raw.githubusercontent.com (raw.githubusercontent.com)... 151.101.0.133, 151.101.64.133, 151.101.128.133, ...\n",
      "Connecting to raw.githubusercontent.com (raw.githubusercontent.com)|151.101.0.133|:443... connected.\n",
      "HTTP request sent, awaiting response... 200 OK\n",
      "Length: 39334 (38K) [application/octet-stream]\n",
      "Saving to: ‘titanic.parquet?raw=true’\n",
      "\n",
      "\r",
      "titanic.parquet?raw   0%[                    ]       0  --.-KB/s               \r",
      "titanic.parquet?raw 100%[===================>]  38.41K  --.-KB/s    in 0.01s   \n",
      "\n",
      "2020-05-11 21:06:07 (3.16 MB/s) - ‘titanic.parquet?raw=true’ saved [39334/39334]\n",
      "\n"
     ]
    }
   ],
   "source": [
    "!wget https://github.com/shatiilrahman/Machine-Learning/blob/master/titanic.parquet?raw=true\n",
    "!mv titanic.parquet?raw=true titanic.parquet"
   ]
  },
  {
   "cell_type": "code",
   "execution_count": 0,
   "metadata": {
    "colab": {},
    "colab_type": "code",
    "id": "aamsaiG1jF27"
   },
   "outputs": [],
   "source": [
    "from pyspark.ml import Pipeline\n",
    "from pyspark.ml.feature import StringIndexer\n",
    "from pyspark.ml.feature import OneHotEncoder\n",
    "from pyspark.ml.linalg import Vector\n",
    "from pyspark.ml.feature import VectorAssembler\n",
    "from pyspark.ml.feature import Normalizer\n",
    "from pyspark.ml.classification import LogisticRegression\n",
    "from pyspark.ml.classification import OneVsRest\n",
    "from pyspark.ml.classification import RandomForestClassifier\n",
    "from pyspark.ml.feature import VectorIndexer\n",
    "from pyspark.ml.evaluation import MulticlassClassificationEvaluator"
   ]
  },
  {
   "cell_type": "code",
   "execution_count": 0,
   "metadata": {
    "colab": {},
    "colab_type": "code",
    "id": "_BM6WE6jkMIz"
   },
   "outputs": [],
   "source": [
    "#LogisticRegression with OneVsRest"
   ]
  },
  {
   "cell_type": "code",
   "execution_count": 0,
   "metadata": {
    "colab": {},
    "colab_type": "code",
    "id": "ODeBrylqOwYY"
   },
   "outputs": [],
   "source": [
    "#loading dataset\n",
    "d=0\n",
    "d = spark.read.parquet('/content/titanic.parquet')\n",
    "d.createOrReplaceTempView(\"titanic\")\n",
    "(d_train,d_test) = d.randomSplit([0.7, 0.3])"
   ]
  },
  {
   "cell_type": "code",
   "execution_count": 18,
   "metadata": {
    "colab": {
     "base_uri": "https://localhost:8080/",
     "height": 459
    },
    "colab_type": "code",
    "id": "y9UD_JzBkqV2",
    "outputId": "bdb2aa6a-9252-4b84-95ed-17a0f2e030ff"
   },
   "outputs": [
    {
     "name": "stdout",
     "output_type": "stream",
     "text": [
      "+-----------+--------+------+--------------------+------+----+-----+-----+---------------+-------+-----+--------+\n",
      "|PassengerId|Survived|Pclass|                Name|   Sex| Age|SibSp|Parch|         Ticket|   Fare|Cabin|Embarked|\n",
      "+-----------+--------+------+--------------------+------+----+-----+-----+---------------+-------+-----+--------+\n",
      "|          9|     1.0|   3.0|Johnson, Mrs. Osc...|female|27.0|  0.0|  2.0|         347742|11.1333| null|       S|\n",
      "|         64|     0.0|   3.0|Skoog, Master. Ha...|  male| 4.0|  3.0|  2.0|         347088|   27.9| null|       S|\n",
      "|        168|     0.0|   3.0|Skoog, Mrs. Willi...|female|45.0|  1.0|  4.0|         347088|   27.9| null|       S|\n",
      "|        228|     0.0|   3.0|\"Lovell, Mr. John...|  male|20.5|  0.0|  0.0|      A/5 21173|   7.25| null|       S|\n",
      "|        322|     0.0|   3.0|    Danoff, Mr. Yoto|  male|27.0|  0.0|  0.0|         349219| 7.8958| null|       S|\n",
      "|        440|     0.0|   2.0|Kvillner, Mr. Joh...|  male|31.0|  0.0|  0.0|     C.A. 18723|   10.5| null|       S|\n",
      "|          2|     1.0|   1.0|Cumings, Mrs. Joh...|female|38.0|  1.0|  0.0|       PC 17599|71.2833|  C85|       C|\n",
      "|         22|     1.0|   2.0|Beesley, Mr. Lawr...|  male|34.0|  0.0|  0.0|         248698|   13.0|  D56|       S|\n",
      "|        138|     0.0|   1.0|Futrelle, Mr. Jac...|  male|37.0|  1.0|  0.0|         113803|   53.1| C123|       S|\n",
      "|        541|     1.0|   1.0|Crosby, Miss. Har...|female|36.0|  0.0|  2.0|      WE/P 5735|   71.0|  B22|       S|\n",
      "|        652|     1.0|   2.0| Doling, Miss. Elsie|female|18.0|  0.0|  1.0|         231919|   23.0| null|       S|\n",
      "|        677|     0.0|   3.0|Sawyer, Mr. Frede...|  male|24.5|  0.0|  0.0|         342826|   8.05| null|       S|\n",
      "|        828|     1.0|   2.0|Mallet, Master. A...|  male| 1.0|  0.0|  2.0|S.C./PARIS 2079|37.0042| null|       C|\n",
      "|        883|     0.0|   3.0|Dahlberg, Miss. G...|female|22.0|  0.0|  0.0|           7552|10.5167| null|       S|\n",
      "|        185|     1.0|   3.0|Kink-Heilmann, Mi...|female| 4.0|  0.0|  2.0|         315153| 22.025| null|       S|\n",
      "|        523|     0.0|   3.0|  Lahoud, Mr. Sarkis|  male|null|  0.0|  0.0|           2624|  7.225| null|       C|\n",
      "|        692|     1.0|   3.0|  Karun, Miss. Manca|female| 4.0|  0.0|  1.0|         349256|13.4167| null|       C|\n",
      "|        779|     0.0|   3.0|Kilgannon, Mr. Th...|  male|null|  0.0|  0.0|          36865| 7.7375| null|       Q|\n",
      "|        819|     0.0|   3.0|Holm, Mr. John Fr...|  male|43.0|  0.0|  0.0|         C 7075|   6.45| null|       S|\n",
      "|        838|     0.0|   3.0| Sirota, Mr. Maurice|  male|null|  0.0|  0.0|         392092|   8.05| null|       S|\n",
      "+-----------+--------+------+--------------------+------+----+-----+-----+---------------+-------+-----+--------+\n",
      "only showing top 20 rows\n",
      "\n"
     ]
    }
   ],
   "source": [
    "d.show()"
   ]
  },
  {
   "cell_type": "code",
   "execution_count": 0,
   "metadata": {
    "colab": {},
    "colab_type": "code",
    "id": "mFeFARVVS8DG"
   },
   "outputs": [],
   "source": [
    "#pipeline formation\n",
    "indexer = StringIndexer(inputCol = \"Sex\" , outputCol = \"label\")\n",
    "vectorAssembler = VectorAssembler(inputCols=[\"Survived\",\"Pclass\",\"SibSp\",\"Parch\",\"Fare\"],outputCol=\"features\")\n",
    "normalizer = Normalizer(inputCol=\"features\", outputCol=\"features_norm\",p=1.0)\n",
    "classifier = LogisticRegression(maxIter = 20, regParam = 0.3, elasticNetParam = 0.8)\n",
    "ovr = OneVsRest(classifier=classifier)\n",
    "pipelineLo = Pipeline(stages=[indexer, vectorAssembler, normalizer,ovr])"
   ]
  },
  {
   "cell_type": "code",
   "execution_count": 9,
   "metadata": {
    "colab": {
     "base_uri": "https://localhost:8080/",
     "height": 34
    },
    "colab_type": "code",
    "id": "F8e9nK9WOJlG",
    "outputId": "9f825241-a1ed-41a1-b6a5-31685af05ecf"
   },
   "outputs": [
    {
     "name": "stdout",
     "output_type": "stream",
     "text": [
      "LogisticRegressionOneVsRest Accuracy :  0.6752767527675276\n"
     ]
    }
   ],
   "source": [
    "#model_fit\n",
    "modelLo = pipelineLo.fit(d_train)\n",
    "prediction = modelLo.transform(d_test)\n",
    "eval = MulticlassClassificationEvaluator(labelCol=\"label\", predictionCol=\"prediction\", metricName=\"accuracy\")\n",
    "eval.evaluate(prediction) \n",
    "accuracyLo = eval.evaluate(prediction)\n",
    "print(\"LogisticRegressionOneVsRest Accuracy : \",accuracyLo)"
   ]
  },
  {
   "cell_type": "code",
   "execution_count": 0,
   "metadata": {
    "colab": {},
    "colab_type": "code",
    "id": "DJAX8JDhkblB"
   },
   "outputs": [],
   "source": [
    "#RandomForestClassifier"
   ]
  },
  {
   "cell_type": "code",
   "execution_count": 0,
   "metadata": {
    "colab": {},
    "colab_type": "code",
    "id": "bJlUvIjJVbUi"
   },
   "outputs": [],
   "source": [
    "#loading dataset\n",
    "df_temp = prediction\n",
    "data = df_temp.drop(\"prediction\")\n",
    "(trainingData, testData) = data.randomSplit([0.7, 0.3])"
   ]
  },
  {
   "cell_type": "code",
   "execution_count": 17,
   "metadata": {
    "colab": {
     "base_uri": "https://localhost:8080/",
     "height": 479
    },
    "colab_type": "code",
    "id": "51y6xCcVkuBg",
    "outputId": "02b2d43f-865c-43e4-e073-21e5c64a0d10"
   },
   "outputs": [
    {
     "name": "stdout",
     "output_type": "stream",
     "text": [
      "+-----------+--------+------+--------------------+------+----+-----+-----+---------------+-------+-----+--------+-----+--------------------+--------------------+\n",
      "|PassengerId|Survived|Pclass|                Name|   Sex| Age|SibSp|Parch|         Ticket|   Fare|Cabin|Embarked|label|            features|       features_norm|\n",
      "+-----------+--------+------+--------------------+------+----+-----+-----+---------------+-------+-----+--------+-----+--------------------+--------------------+\n",
      "|        106|     0.0|   3.0|Mionoff, Mr. Stoy...|  male|28.0|  0.0|  0.0|         349207| 7.8958| null|       S|  0.0|(5,[1,4],[3.0,7.8...|(5,[1,4],[0.27533...|\n",
      "|        108|     1.0|   3.0|Moss, Mr. Albert ...|  male|null|  0.0|  0.0|         312991|  7.775| null|       S|  0.0|[1.0,3.0,0.0,0.0,...|[0.08492569002123...|\n",
      "|        125|     0.0|   1.0|White, Mr. Perciv...|  male|54.0|  0.0|  1.0|          35281|77.2875|  D26|       S|  0.0|[0.0,1.0,0.0,1.0,...|[0.0,0.0126123285...|\n",
      "|        133|     0.0|   3.0|Robins, Mrs. Alex...|female|47.0|  1.0|  0.0|      A/5. 3337|   14.5| null|       S|  1.0|[0.0,3.0,1.0,0.0,...|[0.0,0.1621621621...|\n",
      "|        139|     0.0|   3.0| Osen, Mr. Olaf Elon|  male|16.0|  0.0|  0.0|           7534| 9.2167| null|       S|  0.0|(5,[1,4],[3.0,9.2...|(5,[1,4],[0.24556...|\n",
      "|        140|     0.0|   1.0|  Giglio, Mr. Victor|  male|24.0|  0.0|  0.0|       PC 17593|   79.2|  B86|       C|  0.0|(5,[1,4],[1.0,79.2])|(5,[1,4],[0.01246...|\n",
      "|        141|     0.0|   3.0|Boulos, Mrs. Jose...|female|null|  0.0|  2.0|           2678|15.2458| null|       C|  1.0|[0.0,3.0,0.0,2.0,...|[0.0,0.1481788815...|\n",
      "|        146|     0.0|   2.0|Nicholls, Mr. Jos...|  male|19.0|  1.0|  1.0|     C.A. 33112|  36.75| null|       S|  0.0|[0.0,2.0,1.0,1.0,...|[0.0,0.0490797546...|\n",
      "|         15|     0.0|   3.0|Vestrom, Miss. Hu...|female|14.0|  0.0|  0.0|         350406| 7.8542| null|       S|  1.0|(5,[1,4],[3.0,7.8...|(5,[1,4],[0.27639...|\n",
      "|        150|     0.0|   2.0|Byles, Rev. Thoma...|  male|42.0|  0.0|  0.0|         244310|   13.0| null|       S|  0.0|(5,[1,4],[2.0,13.0])|(5,[1,4],[0.13333...|\n",
      "|        151|     0.0|   2.0|Bateman, Rev. Rob...|  male|51.0|  0.0|  0.0|    S.O.P. 1166| 12.525| null|       S|  0.0|(5,[1,4],[2.0,12....|(5,[1,4],[0.13769...|\n",
      "|        156|     0.0|   1.0|Williams, Mr. Cha...|  male|51.0|  0.0|  1.0|       PC 17597|61.3792| null|       C|  0.0|[0.0,1.0,0.0,1.0,...|[0.0,0.0157780470...|\n",
      "|        158|     0.0|   3.0|     Corn, Mr. Harry|  male|30.0|  0.0|  0.0|SOTON/OQ 392090|   8.05| null|       S|  0.0|(5,[1,4],[3.0,8.05])|(5,[1,4],[0.27149...|\n",
      "|         16|     1.0|   2.0|Hewlett, Mrs. (Ma...|female|55.0|  0.0|  0.0|         248706|   16.0| null|       S|  1.0|[1.0,2.0,0.0,0.0,...|[0.05263157894736...|\n",
      "|        161|     0.0|   3.0|Cribb, Mr. John H...|  male|44.0|  0.0|  1.0|         371362|   16.1| null|       S|  0.0|[0.0,3.0,0.0,1.0,...|[0.0,0.1492537313...|\n",
      "|        163|     0.0|   3.0|Bengtsson, Mr. Jo...|  male|26.0|  0.0|  0.0|         347068|  7.775| null|       S|  0.0|(5,[1,4],[3.0,7.7...|(5,[1,4],[0.27842...|\n",
      "|        172|     0.0|   3.0|Rice, Master. Arthur|  male| 4.0|  4.0|  1.0|         382652| 29.125| null|       Q|  0.0|[0.0,3.0,4.0,1.0,...|[0.0,0.0808080808...|\n",
      "|        173|     1.0|   3.0|Johnson, Miss. El...|female| 1.0|  1.0|  1.0|         347742|11.1333| null|       S|  1.0|[1.0,3.0,1.0,1.0,...|[0.05836587230714...|\n",
      "|        175|     0.0|   1.0|Smith, Mr. James ...|  male|56.0|  0.0|  0.0|          17764|30.6958|   A7|       C|  0.0|(5,[1,4],[1.0,30....|(5,[1,4],[0.03154...|\n",
      "|        176|     0.0|   3.0|Klasen, Mr. Klas ...|  male|18.0|  1.0|  1.0|         350404| 7.8542| null|       S|  0.0|[0.0,3.0,1.0,1.0,...|[0.0,0.2333867529...|\n",
      "+-----------+--------+------+--------------------+------+----+-----+-----+---------------+-------+-----+--------+-----+--------------------+--------------------+\n",
      "only showing top 20 rows\n",
      "\n"
     ]
    }
   ],
   "source": [
    "data.show()"
   ]
  },
  {
   "cell_type": "code",
   "execution_count": 0,
   "metadata": {
    "colab": {},
    "colab_type": "code",
    "id": "1dplSKtlOJgJ"
   },
   "outputs": [],
   "source": [
    "#pipeline formation\n",
    "labelIndexer = StringIndexer(inputCol=\"label\", outputCol=\"indexedLabel\").fit(data)\n",
    "featureIndexer =\\\n",
    "    VectorIndexer(inputCol=\"features\", outputCol=\"indexedFeatures\", maxCategories=4).fit(data)\n",
    "rf = RandomForestClassifier(labelCol=\"indexedLabel\", featuresCol=\"indexedFeatures\", numTrees=10)\n",
    "pipelineRa = Pipeline(stages=[labelIndexer, featureIndexer, rf])"
   ]
  },
  {
   "cell_type": "code",
   "execution_count": 0,
   "metadata": {
    "colab": {},
    "colab_type": "code",
    "id": "bjkMHVLlOJNY"
   },
   "outputs": [],
   "source": [
    "#model_fit\n",
    "modelRa = pipelineRa.fit(trainingData)\n",
    "prediction = modelRa.transform(testData)"
   ]
  },
  {
   "cell_type": "code",
   "execution_count": 13,
   "metadata": {
    "colab": {
     "base_uri": "https://localhost:8080/",
     "height": 34
    },
    "colab_type": "code",
    "id": "z_UcmEwJO_NG",
    "outputId": "10511679-c49b-43f9-e56c-8e69143ec1b2"
   },
   "outputs": [
    {
     "name": "stdout",
     "output_type": "stream",
     "text": [
      "RandomForestClassifier Accuracy :  0.7204301075268817\n"
     ]
    }
   ],
   "source": [
    "evalua = MulticlassClassificationEvaluator(labelCol=\"indexedLabel\", predictionCol=\"prediction\", metricName=\"accuracy\")\n",
    "evalua.evaluate(prediction)\n",
    "accuracyRa = evalua.evaluate(prediction)\n",
    "print(\"RandomForestClassifier Accuracy : \",accuracyRa)"
   ]
  }
 ],
 "metadata": {
  "colab": {
   "collapsed_sections": [],
   "name": "RandomForestClassifier_Capstone_project.ipynb",
   "provenance": []
  },
  "kernelspec": {
   "display_name": "Python 2",
   "language": "python",
   "name": "python2"
  },
  "language_info": {
   "codemirror_mode": {
    "name": "ipython",
    "version": 2
   },
   "file_extension": ".py",
   "mimetype": "text/x-python",
   "name": "python",
   "nbconvert_exporter": "python",
   "pygments_lexer": "ipython2",
   "version": "2.7.15+"
  }
 },
 "nbformat": 4,
 "nbformat_minor": 1
}
